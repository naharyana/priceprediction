{
 "cells": [
  {
   "cell_type": "markdown",
   "id": "9489f99a-6322-448c-a790-f704b40fc9a3",
   "metadata": {},
   "source": [
    "## 1. Load Required Libraries"
   ]
  },
  {
   "cell_type": "code",
   "execution_count": 1,
   "id": "0b5f0211-aa60-4a17-a15c-81f1eeed57bc",
   "metadata": {},
   "outputs": [
    {
     "name": "stderr",
     "output_type": "stream",
     "text": [
      "C:\\Users\\nahar\\anaconda3\\lib\\site-packages\\scipy\\__init__.py:146: UserWarning: A NumPy version >=1.16.5 and <1.23.0 is required for this version of SciPy (detected version 1.24.3\n",
      "  warnings.warn(f\"A NumPy version >={np_minversion} and <{np_maxversion}\"\n"
     ]
    }
   ],
   "source": [
    "import src.util as utils\n",
    "import pandas as pd\n",
    "from sklearn.preprocessing import StandardScaler\n",
    "from sklearn.preprocessing import OneHotEncoder"
   ]
  },
  {
   "cell_type": "markdown",
   "id": "cf44f133-caf8-480a-a545-7a8a62840dc6",
   "metadata": {},
   "source": [
    "## 2. Load Configuration File"
   ]
  },
  {
   "cell_type": "code",
   "execution_count": 2,
   "id": "1710ba80-7386-4609-aa92-481f63d18129",
   "metadata": {},
   "outputs": [],
   "source": [
    "config = utils.load_config()"
   ]
  },
  {
   "cell_type": "markdown",
   "id": "833f3a2e-e002-41d5-9e35-b6a714ef8739",
   "metadata": {},
   "source": [
    "## 3. Load Dataset"
   ]
  },
  {
   "cell_type": "code",
   "execution_count": 3,
   "id": "d2659487-d389-4ca0-a5c0-462af76bc0d3",
   "metadata": {},
   "outputs": [],
   "source": [
    "def load_dataset(config_data: dict):\n",
    "    # Load every set of data\n",
    "    x_train = utils.pickle_load(config_data[\"train_set_path\"][0])\n",
    "    y_train = utils.pickle_load(config_data[\"train_set_path\"][1])\n",
    "\n",
    "    x_valid = utils.pickle_load(config_data[\"valid_set_path\"][0])\n",
    "    y_valid = utils.pickle_load(config_data[\"valid_set_path\"][1])\n",
    "\n",
    "    x_test = utils.pickle_load(config_data[\"test_set_path\"][0])\n",
    "    y_test = utils.pickle_load(config_data[\"test_set_path\"][1])\n",
    "\n",
    "    # Concatenate x and y each set\n",
    "    train_set = pd.concat([x_train, y_train], axis = 1)\n",
    "    valid_set = pd.concat([x_valid, y_valid], axis = 1)\n",
    "    test_set = pd.concat([x_test, y_test], axis = 1)\n",
    "\n",
    "    # Return 3 set of data\n",
    "    return train_set, valid_set, test_set"
   ]
  },
  {
   "cell_type": "code",
   "execution_count": 65,
   "id": "21e36723-c2b5-4937-bccb-cbf41cf480f2",
   "metadata": {},
   "outputs": [],
   "source": [
    "train_set, valid_set, test_set = load_dataset(config)"
   ]
  },
  {
   "cell_type": "markdown",
   "id": "3a0c51f4-eed9-4411-8fec-fbe39414f740",
   "metadata": {},
   "source": [
    "## 4. Preprocessing\n",
    "\n",
    "Summary EDA:\n",
    "\n",
    "- ScreenResolution ada 0/1\n",
    "- Cpu ada brand\n",
    "- Ram ada replace\n",
    "- Memory belum\n",
    "- Gpu split\n",
    "- OpSys make\n",
    "- Weight replace "
   ]
  },
  {
   "cell_type": "markdown",
   "id": "26cfdcbe-17ce-4310-b427-d2b58d5b8668",
   "metadata": {},
   "source": [
    "1. Create new column, `Touchscreen` and `IPS` representing weather the laptop have touchscreen or IPS feature."
   ]
  },
  {
   "cell_type": "code",
   "execution_count": 5,
   "id": "c2af9e7c-c08e-41ae-859b-fdd2bbbe3c25",
   "metadata": {},
   "outputs": [],
   "source": [
    "def check_touchsreen(data):\n",
    "    if \"Touchscreen\" in data:\n",
    "        return 1\n",
    "    else:\n",
    "        return 0"
   ]
  },
  {
   "cell_type": "code",
   "execution_count": 6,
   "id": "9a0c0d56-7f7f-4bef-bde0-3a2bae17b9ce",
   "metadata": {},
   "outputs": [],
   "source": [
    "def check_ips(data):\n",
    "    if \"IPS\" in data:\n",
    "        return 1\n",
    "    else:\n",
    "        return 0"
   ]
  },
  {
   "cell_type": "markdown",
   "id": "2d579645-086b-45d8-9619-72438d967184",
   "metadata": {},
   "source": [
    "2. Get CPU name from CPU column"
   ]
  },
  {
   "cell_type": "code",
   "execution_count": 7,
   "id": "a299b669-1585-4b44-887c-99bab82de073",
   "metadata": {},
   "outputs": [],
   "source": [
    "def get_cpu_name(data):\n",
    "    # get the first three words in cpu name \n",
    "    \n",
    "    first_three_words = data.split()[0:3]\n",
    "    output = \" \".join(first_three_words)\n",
    "    \n",
    "    return output"
   ]
  },
  {
   "cell_type": "markdown",
   "id": "48ca35ea-02e1-4b7a-bf79-700cc524227b",
   "metadata": {},
   "source": [
    "3. Get CPU brand from the CPU Name"
   ]
  },
  {
   "cell_type": "code",
   "execution_count": 8,
   "id": "66c3a4ea-e13b-4be1-96a9-2d50ebff1686",
   "metadata": {},
   "outputs": [],
   "source": [
    "def fetch_processor(text):\n",
    "    if (text == 'Intel Core i7' or text == 'Intel Core i5' or text == 'Intel Core i3'):\n",
    "        return text\n",
    "    else:\n",
    "        if text.split()[0] == 'Intel':\n",
    "            return 'Other Intel Processor'\n",
    "        else:\n",
    "            return 'AMD Processor'"
   ]
  },
  {
   "cell_type": "markdown",
   "id": "c2dfb528-1e06-4612-bd69-f41a55353c46",
   "metadata": {},
   "source": [
    "4. Get the number of RAM"
   ]
  },
  {
   "cell_type": "code",
   "execution_count": 9,
   "id": "6b4f3128-11fc-4676-bc43-b9385ccfef44",
   "metadata": {},
   "outputs": [],
   "source": [
    "def clean_ram(data):\n",
    "    # get the numeric of RAM\n",
    "    replacing_gb = data.str.replace(\"GB\",\"\")\n",
    "    numeric_form = replacing_gb.astype(\"int\")\n",
    "    \n",
    "    return replacing_gb"
   ]
  },
  {
   "cell_type": "markdown",
   "id": "8570f85b-4db9-4add-92b7-1e0fd4630c3e",
   "metadata": {},
   "source": [
    "5. Get the GPU brand"
   ]
  },
  {
   "cell_type": "code",
   "execution_count": 10,
   "id": "16e70007-c66c-49dd-8d7b-f71b7ae780b5",
   "metadata": {},
   "outputs": [],
   "source": [
    "def brand_gpu(data):\n",
    "    # get the brand of gpu\n",
    "    brand = data.split()[0]\n",
    "    \n",
    "    return brand"
   ]
  },
  {
   "cell_type": "markdown",
   "id": "50a28cdc-b346-4756-8b1d-bf1201046439",
   "metadata": {},
   "source": [
    "6. Fix operating system name "
   ]
  },
  {
   "cell_type": "code",
   "execution_count": 11,
   "id": "a5a6cc0f-326d-44ee-a3a9-0d39133b3e0f",
   "metadata": {},
   "outputs": [],
   "source": [
    "def cat_os(data):\n",
    "    if data == 'Windows 10' or data == 'Windows 7' or data == 'Windows 10 S':\n",
    "        return 'Windows'\n",
    "    elif data == 'macOS' or data == 'Mac OS X':\n",
    "        return 'Mac'\n",
    "    else:\n",
    "        return 'Others/No OS/Linux'"
   ]
  },
  {
   "cell_type": "markdown",
   "id": "055b46e9-487c-44aa-a38a-fac58c1b6ec1",
   "metadata": {},
   "source": [
    "7. Get the weight in numerical form"
   ]
  },
  {
   "cell_type": "code",
   "execution_count": 12,
   "id": "090998fc-5dee-4339-9038-99c5bb162d1a",
   "metadata": {},
   "outputs": [],
   "source": [
    "def clean_weight(data):\n",
    "    # get the numeric of RAM\n",
    "    replacing_kg = data.str.replace(\"kg\",\"\")\n",
    "    numeric_form_weight = replacing_kg.astype(\"float\")\n",
    "    return numeric_form_weight"
   ]
  },
  {
   "cell_type": "markdown",
   "id": "3376f026-3b9b-44b4-a0fd-fe3b009d5028",
   "metadata": {},
   "source": [
    "8. Get screen resolution"
   ]
  },
  {
   "cell_type": "code",
   "execution_count": 13,
   "id": "0bc560e9-6c08-4e4c-bcf6-1eecfd5b733f",
   "metadata": {},
   "outputs": [],
   "source": [
    "def get_xresolution(data):\n",
    "    temp = data.str.split(\"x\", n = 1, expand = True)\n",
    "    x_res = temp[0].str.replace(',','').str.findall(r'(\\d+\\.?\\d+)').apply(lambda x:x[0])\n",
    "    return x_res\n",
    "\n",
    "def get_yresolution(data):\n",
    "    temp = data.str.split(\"x\", n = 1, expand = True)\n",
    "    y_res = temp[1].str.replace(',','').str.findall(r'(\\d+\\.?\\d+)').apply(lambda x:x[0])\n",
    "    return y_res"
   ]
  },
  {
   "cell_type": "code",
   "execution_count": 14,
   "id": "58e21740-5379-444b-b9a8-ff151e6fbce1",
   "metadata": {},
   "outputs": [
    {
     "data": {
      "text/html": [
       "<div>\n",
       "<style scoped>\n",
       "    .dataframe tbody tr th:only-of-type {\n",
       "        vertical-align: middle;\n",
       "    }\n",
       "\n",
       "    .dataframe tbody tr th {\n",
       "        vertical-align: top;\n",
       "    }\n",
       "\n",
       "    .dataframe thead th {\n",
       "        text-align: right;\n",
       "    }\n",
       "</style>\n",
       "<table border=\"1\" class=\"dataframe\">\n",
       "  <thead>\n",
       "    <tr style=\"text-align: right;\">\n",
       "      <th></th>\n",
       "      <th>Company</th>\n",
       "      <th>TypeName</th>\n",
       "      <th>Inches</th>\n",
       "      <th>ScreenResolution</th>\n",
       "      <th>Cpu</th>\n",
       "      <th>Ram</th>\n",
       "      <th>Memory</th>\n",
       "      <th>Gpu</th>\n",
       "      <th>OpSys</th>\n",
       "      <th>Weight</th>\n",
       "      <th>HDD</th>\n",
       "      <th>SSD</th>\n",
       "      <th>Hybrid</th>\n",
       "      <th>Flash_Storage</th>\n",
       "      <th>Price</th>\n",
       "    </tr>\n",
       "  </thead>\n",
       "  <tbody>\n",
       "    <tr>\n",
       "      <th>795</th>\n",
       "      <td>Lenovo</td>\n",
       "      <td>2 in 1 Convertible</td>\n",
       "      <td>14.0</td>\n",
       "      <td>IPS Panel Touchscreen 2560x1440</td>\n",
       "      <td>Intel Core i5 7200U 2.5GHz</td>\n",
       "      <td>8GB</td>\n",
       "      <td>256 SSD</td>\n",
       "      <td>Intel HD Graphics 620</td>\n",
       "      <td>Windows 10</td>\n",
       "      <td>1.42kg</td>\n",
       "      <td>0</td>\n",
       "      <td>256</td>\n",
       "      <td>0</td>\n",
       "      <td>0</td>\n",
       "      <td>124142.4000</td>\n",
       "    </tr>\n",
       "    <tr>\n",
       "      <th>166</th>\n",
       "      <td>Acer</td>\n",
       "      <td>Notebook</td>\n",
       "      <td>15.6</td>\n",
       "      <td>1366x768</td>\n",
       "      <td>Intel Pentium Quad Core N4200 1.1GHz</td>\n",
       "      <td>4GB</td>\n",
       "      <td>1000 HDD</td>\n",
       "      <td>Intel HD Graphics 505</td>\n",
       "      <td>Windows 10</td>\n",
       "      <td>2.1kg</td>\n",
       "      <td>1000</td>\n",
       "      <td>0</td>\n",
       "      <td>0</td>\n",
       "      <td>0</td>\n",
       "      <td>19367.8128</td>\n",
       "    </tr>\n",
       "    <tr>\n",
       "      <th>695</th>\n",
       "      <td>Acer</td>\n",
       "      <td>Netbook</td>\n",
       "      <td>11.6</td>\n",
       "      <td>1366x768</td>\n",
       "      <td>Intel Celeron Dual Core N3050 1.6GHz</td>\n",
       "      <td>4GB</td>\n",
       "      <td>32 Flash Storage</td>\n",
       "      <td>Intel HD Graphics</td>\n",
       "      <td>Windows 10</td>\n",
       "      <td>1.4kg</td>\n",
       "      <td>0</td>\n",
       "      <td>0</td>\n",
       "      <td>0</td>\n",
       "      <td>32</td>\n",
       "      <td>14332.3200</td>\n",
       "    </tr>\n",
       "    <tr>\n",
       "      <th>470</th>\n",
       "      <td>HP</td>\n",
       "      <td>2 in 1 Convertible</td>\n",
       "      <td>13.3</td>\n",
       "      <td>IPS Panel 4K Ultra HD / Touchscreen 3840x2160</td>\n",
       "      <td>Intel Core i7 8550U 1.8GHz</td>\n",
       "      <td>8GB</td>\n",
       "      <td>512 SSD</td>\n",
       "      <td>Intel UHD Graphics 620</td>\n",
       "      <td>Windows 10</td>\n",
       "      <td>1.29kg</td>\n",
       "      <td>0</td>\n",
       "      <td>512</td>\n",
       "      <td>0</td>\n",
       "      <td>0</td>\n",
       "      <td>106506.7200</td>\n",
       "    </tr>\n",
       "    <tr>\n",
       "      <th>763</th>\n",
       "      <td>Asus</td>\n",
       "      <td>Ultrabook</td>\n",
       "      <td>13.3</td>\n",
       "      <td>IPS Panel Quad HD+ 3200x1800</td>\n",
       "      <td>Intel Core i5 7200U 2.5GHz</td>\n",
       "      <td>8GB</td>\n",
       "      <td>256 SSD</td>\n",
       "      <td>Intel HD Graphics 620</td>\n",
       "      <td>Windows 10</td>\n",
       "      <td>1.2kg</td>\n",
       "      <td>0</td>\n",
       "      <td>256</td>\n",
       "      <td>0</td>\n",
       "      <td>0</td>\n",
       "      <td>60153.1200</td>\n",
       "    </tr>\n",
       "    <tr>\n",
       "      <th>...</th>\n",
       "      <td>...</td>\n",
       "      <td>...</td>\n",
       "      <td>...</td>\n",
       "      <td>...</td>\n",
       "      <td>...</td>\n",
       "      <td>...</td>\n",
       "      <td>...</td>\n",
       "      <td>...</td>\n",
       "      <td>...</td>\n",
       "      <td>...</td>\n",
       "      <td>...</td>\n",
       "      <td>...</td>\n",
       "      <td>...</td>\n",
       "      <td>...</td>\n",
       "      <td>...</td>\n",
       "    </tr>\n",
       "    <tr>\n",
       "      <th>970</th>\n",
       "      <td>Dell</td>\n",
       "      <td>2 in 1 Convertible</td>\n",
       "      <td>13.3</td>\n",
       "      <td>Quad HD+ / Touchscreen 3200x1800</td>\n",
       "      <td>Intel Core i7 7Y75 1.3GHz</td>\n",
       "      <td>16GB</td>\n",
       "      <td>512 SSD</td>\n",
       "      <td>Intel HD Graphics 615</td>\n",
       "      <td>Windows 10</td>\n",
       "      <td>1.22kg</td>\n",
       "      <td>0</td>\n",
       "      <td>512</td>\n",
       "      <td>0</td>\n",
       "      <td>0</td>\n",
       "      <td>101178.7200</td>\n",
       "    </tr>\n",
       "    <tr>\n",
       "      <th>885</th>\n",
       "      <td>HP</td>\n",
       "      <td>2 in 1 Convertible</td>\n",
       "      <td>13.3</td>\n",
       "      <td>Full HD / Touchscreen 1920x1080</td>\n",
       "      <td>Intel Core i5 7200U 2.5GHz</td>\n",
       "      <td>4GB</td>\n",
       "      <td>256 SSD</td>\n",
       "      <td>Intel HD Graphics 620</td>\n",
       "      <td>Windows 10</td>\n",
       "      <td>1.28kg</td>\n",
       "      <td>0</td>\n",
       "      <td>256</td>\n",
       "      <td>0</td>\n",
       "      <td>0</td>\n",
       "      <td>95850.7200</td>\n",
       "    </tr>\n",
       "    <tr>\n",
       "      <th>91</th>\n",
       "      <td>Acer</td>\n",
       "      <td>Notebook</td>\n",
       "      <td>15.6</td>\n",
       "      <td>Full HD 1920x1080</td>\n",
       "      <td>Intel Core i7 8550U 1.8GHz</td>\n",
       "      <td>8GB</td>\n",
       "      <td>1000 HDD</td>\n",
       "      <td>Nvidia GeForce MX150</td>\n",
       "      <td>Windows 10</td>\n",
       "      <td>2.2kg</td>\n",
       "      <td>1000</td>\n",
       "      <td>0</td>\n",
       "      <td>0</td>\n",
       "      <td>0</td>\n",
       "      <td>36709.9200</td>\n",
       "    </tr>\n",
       "    <tr>\n",
       "      <th>1032</th>\n",
       "      <td>MSI</td>\n",
       "      <td>Gaming</td>\n",
       "      <td>17.3</td>\n",
       "      <td>Full HD 1920x1080</td>\n",
       "      <td>Intel Core i7 7700HQ 2.8GHz</td>\n",
       "      <td>8GB</td>\n",
       "      <td>128 SSD +  1000 HDD</td>\n",
       "      <td>Nvidia GeForce GTX 1050</td>\n",
       "      <td>Windows 10</td>\n",
       "      <td>2.7kg</td>\n",
       "      <td>1000</td>\n",
       "      <td>128</td>\n",
       "      <td>0</td>\n",
       "      <td>0</td>\n",
       "      <td>63499.1040</td>\n",
       "    </tr>\n",
       "    <tr>\n",
       "      <th>1256</th>\n",
       "      <td>Asus</td>\n",
       "      <td>Gaming</td>\n",
       "      <td>17.3</td>\n",
       "      <td>IPS Panel Full HD 1920x1080</td>\n",
       "      <td>Intel Core i7 6700HQ 2.6GHz</td>\n",
       "      <td>16GB</td>\n",
       "      <td>128 SSD +  1000 HDD</td>\n",
       "      <td>Nvidia GeForce GTX 970M</td>\n",
       "      <td>Windows 10</td>\n",
       "      <td>4.0kg</td>\n",
       "      <td>1000</td>\n",
       "      <td>128</td>\n",
       "      <td>0</td>\n",
       "      <td>0</td>\n",
       "      <td>101232.0000</td>\n",
       "    </tr>\n",
       "  </tbody>\n",
       "</table>\n",
       "<p>638 rows × 15 columns</p>\n",
       "</div>"
      ],
      "text/plain": [
       "     Company            TypeName  Inches  \\\n",
       "795   Lenovo  2 in 1 Convertible    14.0   \n",
       "166     Acer            Notebook    15.6   \n",
       "695     Acer             Netbook    11.6   \n",
       "470       HP  2 in 1 Convertible    13.3   \n",
       "763     Asus           Ultrabook    13.3   \n",
       "...      ...                 ...     ...   \n",
       "970     Dell  2 in 1 Convertible    13.3   \n",
       "885       HP  2 in 1 Convertible    13.3   \n",
       "91      Acer            Notebook    15.6   \n",
       "1032     MSI              Gaming    17.3   \n",
       "1256    Asus              Gaming    17.3   \n",
       "\n",
       "                                   ScreenResolution  \\\n",
       "795                 IPS Panel Touchscreen 2560x1440   \n",
       "166                                        1366x768   \n",
       "695                                        1366x768   \n",
       "470   IPS Panel 4K Ultra HD / Touchscreen 3840x2160   \n",
       "763                    IPS Panel Quad HD+ 3200x1800   \n",
       "...                                             ...   \n",
       "970                Quad HD+ / Touchscreen 3200x1800   \n",
       "885                 Full HD / Touchscreen 1920x1080   \n",
       "91                                Full HD 1920x1080   \n",
       "1032                              Full HD 1920x1080   \n",
       "1256                    IPS Panel Full HD 1920x1080   \n",
       "\n",
       "                                       Cpu   Ram               Memory  \\\n",
       "795             Intel Core i5 7200U 2.5GHz   8GB              256 SSD   \n",
       "166   Intel Pentium Quad Core N4200 1.1GHz   4GB             1000 HDD   \n",
       "695   Intel Celeron Dual Core N3050 1.6GHz   4GB     32 Flash Storage   \n",
       "470             Intel Core i7 8550U 1.8GHz   8GB              512 SSD   \n",
       "763             Intel Core i5 7200U 2.5GHz   8GB              256 SSD   \n",
       "...                                    ...   ...                  ...   \n",
       "970              Intel Core i7 7Y75 1.3GHz  16GB              512 SSD   \n",
       "885             Intel Core i5 7200U 2.5GHz   4GB              256 SSD   \n",
       "91              Intel Core i7 8550U 1.8GHz   8GB             1000 HDD   \n",
       "1032           Intel Core i7 7700HQ 2.8GHz   8GB  128 SSD +  1000 HDD   \n",
       "1256           Intel Core i7 6700HQ 2.6GHz  16GB  128 SSD +  1000 HDD   \n",
       "\n",
       "                          Gpu       OpSys  Weight   HDD  SSD  Hybrid  \\\n",
       "795     Intel HD Graphics 620  Windows 10  1.42kg     0  256       0   \n",
       "166     Intel HD Graphics 505  Windows 10   2.1kg  1000    0       0   \n",
       "695         Intel HD Graphics  Windows 10   1.4kg     0    0       0   \n",
       "470    Intel UHD Graphics 620  Windows 10  1.29kg     0  512       0   \n",
       "763     Intel HD Graphics 620  Windows 10   1.2kg     0  256       0   \n",
       "...                       ...         ...     ...   ...  ...     ...   \n",
       "970     Intel HD Graphics 615  Windows 10  1.22kg     0  512       0   \n",
       "885     Intel HD Graphics 620  Windows 10  1.28kg     0  256       0   \n",
       "91       Nvidia GeForce MX150  Windows 10   2.2kg  1000    0       0   \n",
       "1032  Nvidia GeForce GTX 1050  Windows 10   2.7kg  1000  128       0   \n",
       "1256  Nvidia GeForce GTX 970M  Windows 10   4.0kg  1000  128       0   \n",
       "\n",
       "      Flash_Storage        Price  \n",
       "795               0  124142.4000  \n",
       "166               0   19367.8128  \n",
       "695              32   14332.3200  \n",
       "470               0  106506.7200  \n",
       "763               0   60153.1200  \n",
       "...             ...          ...  \n",
       "970               0  101178.7200  \n",
       "885               0   95850.7200  \n",
       "91                0   36709.9200  \n",
       "1032              0   63499.1040  \n",
       "1256              0  101232.0000  \n",
       "\n",
       "[638 rows x 15 columns]"
      ]
     },
     "execution_count": 14,
     "metadata": {},
     "output_type": "execute_result"
    }
   ],
   "source": [
    "train_set"
   ]
  },
  {
   "cell_type": "markdown",
   "id": "b9a7c2d6-3a69-490c-baba-a4db62480004",
   "metadata": {},
   "source": [
    "Standardization"
   ]
  },
  {
   "cell_type": "code",
   "execution_count": 15,
   "id": "e87a49f8-5fcf-46e9-a8d8-dcf4d5b4c14e",
   "metadata": {},
   "outputs": [],
   "source": [
    "def fit_standardize(data, config_data, return_file=True):\n",
    "    \"\"\"Find standardizer data\"\"\"\n",
    "    standardizer = StandardScaler()\n",
    "\n",
    "    # Fit standardizer\n",
    "    standardizer.fit(data)\n",
    "\n",
    "    # Dump standardizer\n",
    "    # utils.pickle_dump(standardizer, config_data['standardizer_path'])\n",
    "    \n",
    "    if return_file:\n",
    "        return standardizer"
   ]
  },
  {
   "cell_type": "code",
   "execution_count": 16,
   "id": "adde723a-0a4c-41b4-80c6-cb4d1b7f2fd3",
   "metadata": {},
   "outputs": [],
   "source": [
    "def fit_ohe(data, config_data, return_file=True):\n",
    "    \"\"\"Find standardizer data\"\"\"\n",
    "    ohe = OneHotEncoder()\n",
    "\n",
    "    # Fit standardizer\n",
    "    ohe.fit(data)\n",
    "\n",
    "    # Dump standardizer\n",
    "    # utils.pickle_dump(ohe, config_data['ohe_path'])\n",
    "    \n",
    "    if return_file:\n",
    "        return ohe"
   ]
  },
  {
   "cell_type": "code",
   "execution_count": 17,
   "id": "b56368ac-bbd2-4d49-ac9d-09cc392e6abb",
   "metadata": {},
   "outputs": [],
   "source": [
    "def transform_standardize(data, standardizer):\n",
    "    \"\"\"Function to standardize data\"\"\"\n",
    "    data_standard = pd.DataFrame(standardizer.transform(data))\n",
    "    data_standard.columns = data.columns\n",
    "    data_standard.index = data.index \n",
    "    \n",
    "    return data_standard"
   ]
  },
  {
   "cell_type": "code",
   "execution_count": 18,
   "id": "fb1d49fc-4dc3-4863-a14a-869da713019f",
   "metadata": {},
   "outputs": [],
   "source": [
    "def transform_ohe(data, ohe):\n",
    "    \"\"\"Function to standardize data\"\"\"\n",
    "    data_ohe = pd.DataFrame(ohe.transform(data).toarray())\n",
    "    data_ohe.columns = ohe.get_feature_names_out(data.columns)\n",
    "    data_ohe.index = data.index\n",
    "    return data_ohe"
   ]
  },
  {
   "cell_type": "markdown",
   "id": "a9510541-fa29-4b13-9b8a-e9f271479a44",
   "metadata": {},
   "source": [
    "## 5. Preprocessing All"
   ]
  },
  {
   "cell_type": "code",
   "execution_count": 19,
   "id": "c153535a-d1b7-4a55-ab13-1529f3a83b4b",
   "metadata": {},
   "outputs": [],
   "source": [
    "def feature_engineering(data):\n",
    "    \"\"\"Function to do feature engineering\"\"\"\n",
    "    \n",
    "    # Add new columns\n",
    "    data[\"Touchscreen\"] = data[\"ScreenResolution\"].apply(check_touchsreen)\n",
    "    data[\"IPS\"] = data[\"ScreenResolution\"].apply(check_ips)\n",
    "    data[\"X_res\"] = get_xresolution(data[\"ScreenResolution\"])\n",
    "    data[\"Y_res\"] = get_yresolution(data[\"ScreenResolution\"])\n",
    "    \n",
    "    # Clearning columns\n",
    "    data['Cpu'] = data['Cpu'].apply(get_cpu_name)\n",
    "    data['Cpu Name'] = data['Cpu'].apply(fetch_processor)\n",
    "    data['Gpu'] = data['Gpu'].apply(brand_gpu)\n",
    "    data[\"Ram\"] = clean_ram(data[\"Ram\"])\n",
    "    data['OpSys'] = data['OpSys'].apply(cat_os)\n",
    "    data[\"Weight\"] = clean_weight(data[\"Weight\"])\n",
    "    \n",
    "    return data"
   ]
  },
  {
   "cell_type": "code",
   "execution_count": 20,
   "id": "ca43bd1f-9a86-44f6-bda1-6495aae2a022",
   "metadata": {},
   "outputs": [],
   "source": [
    "# # Fit standardizer\n",
    "# standardizer = fit_standardize(data = train_set[])\n",
    "\n",
    "# # Transform\n",
    "# X_train_std = transform_standardize(data = X_train_imputed,\n",
    "#                                     standardizer = standardizer)\n",
    "# X_train_std.describe()"
   ]
  },
  {
   "cell_type": "code",
   "execution_count": 21,
   "id": "2c671b9d-9728-45ac-b366-e070cadf5e9c",
   "metadata": {},
   "outputs": [],
   "source": [
    "def generate_preprocessor(train_data, config_data, return_file=True):\n",
    "    \"\"\"Function to generate preprocessor\"\"\"\n",
    "    # Load data\n",
    "    \n",
    "    # Generate preprocessor: standardizer\n",
    "    standardizer = fit_standardize(train_data[config_data[\"numerical_columns\"]], config_data)\n",
    "    \n",
    "    # Generate preprocessor: onehotencoden\n",
    "    ohe = fit_ohe(train_data[config_data[\"cat_columns\"]], config_data)\n",
    "\n",
    "    # Dump file\n",
    "    preprocessor = {'standardizer': standardizer,\n",
    "                    'ohe': ohe}\n",
    "    # utils.pickle_dump(preprocessor, config_data['preprocessor_path'])\n",
    "    # utils.pickle_dump(preprocessor, config_data['ohe_path'])\n",
    "    \n",
    "    if return_file:\n",
    "        return preprocessor"
   ]
  },
  {
   "cell_type": "code",
   "execution_count": 22,
   "id": "3d43438f-2230-4f12-8d95-bb426fd4f64b",
   "metadata": {},
   "outputs": [],
   "source": [
    "def preprocess_data(config_data, type_data = 'train' , return_file=True):\n",
    "    \"\"\"Function to preprocess train data\"\"\"\n",
    "    # Load data\n",
    "    X = utils.pickle_load(config_data[f'{type_data}_set_path'][0])\n",
    "    y = utils.pickle_load(config_data[f'{type_data}_set_path'][1])\n",
    "    \n",
    "    # Feature Engineering\n",
    "    X_fe = feature_engineering(X)\n",
    "    \n",
    "    # Load preprocessor\n",
    "    if type_data == \"train\":\n",
    "        preprocessor = generate_preprocessor(X_fe, config)\n",
    "    else:\n",
    "        preprocessor = utils.pickle_load(config_data['preprocessor_path'])\n",
    "    \n",
    "    \n",
    "    # Standardization\n",
    "    standardizer = preprocessor['standardizer']\n",
    "    X_clean_numerical = transform_standardize(X_fe[config_data['numerical_columns']], standardizer)\n",
    "    \n",
    "    # One Hot Encoder\n",
    "    ohe = preprocessor['ohe']\n",
    "    X_clean_categorical = transform_ohe(X_fe[config_data['cat_columns']], ohe)\n",
    "    \n",
    "    # Combine numerical and categorical columns\n",
    "    X_clean = pd.concat([X_clean_numerical, X_clean_categorical], axis = 1)\n",
    "    \n",
    "    y_clean = y\n",
    "\n",
    "    # Print shape\n",
    "    print(\"X clean shape:\", X_clean.shape)\n",
    "    print(\"y clean shape:\", y_clean.shape)\n",
    "\n",
    "    # Dump file\n",
    "    # utils.pickle_dump(X_clean, config_data[f'{type_data}_clean_path'][0])\n",
    "    # utils.pickle_dump(y_clean, config_data[f'{type_data}_clean_path'][1])\n",
    "\n",
    "    if return_file:\n",
    "        return X_clean, y_clean   "
   ]
  },
  {
   "cell_type": "code",
   "execution_count": 23,
   "id": "daf10d50-bf2c-4385-a8f0-faf00dea6b77",
   "metadata": {},
   "outputs": [
    {
     "name": "stdout",
     "output_type": "stream",
     "text": [
      "X clean shape: (638, 45)\n",
      "y clean shape: (638,)\n",
      "X clean shape: (274, 45)\n",
      "y clean shape: (274,)\n",
      "X clean shape: (391, 45)\n",
      "y clean shape: (391,)\n"
     ]
    }
   ],
   "source": [
    "# Transform X_train\n",
    "X_train_clean, y_train_clean = preprocess_data(config, type_data = 'train', return_file = True)\n",
    "\n",
    "# Transform X_valid\n",
    "X_valid_clean, y_valid_clean = preprocess_data(config, type_data = 'valid', return_file = True)\n",
    "\n",
    "# Transform X_train\n",
    "X_test_clean, y_test_clean = preprocess_data(config, type_data = 'test', return_file = True)"
   ]
  }
 ],
 "metadata": {
  "kernelspec": {
   "display_name": "Python 3 (ipykernel)",
   "language": "python",
   "name": "python3"
  },
  "language_info": {
   "codemirror_mode": {
    "name": "ipython",
    "version": 3
   },
   "file_extension": ".py",
   "mimetype": "text/x-python",
   "name": "python",
   "nbconvert_exporter": "python",
   "pygments_lexer": "ipython3",
   "version": "3.8.8"
  }
 },
 "nbformat": 4,
 "nbformat_minor": 5
}
